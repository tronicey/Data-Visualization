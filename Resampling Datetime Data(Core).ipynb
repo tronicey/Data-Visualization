{
 "cells": [
  {
   "cell_type": "code",
   "execution_count": 1,
   "id": "9671bf1f-58be-489e-8713-a18929631044",
   "metadata": {},
   "outputs": [],
   "source": [
    "import pandas as pd\n",
    "import matplotlib.pyplot as plt\n",
    "import matplotlib.dates as mdates\n",
    "# import matplotlib.ticker as mticks\n",
    "\n",
    "import missingno as miss\n",
    "\n",
    "import seaborn as sns\n",
    "import numpy as np\n",
    "\n",
    "pd.set_option('display.float_format',lambda x:f\"{x:,.2f}\")\n",
    "\n",
    "import warnings\n",
    "warnings.filterwarnings('ignore')"
   ]
  },
  {
   "cell_type": "code",
   "execution_count": 2,
   "id": "7dea9f1d-e25c-438d-a079-fe2b53ad49d5",
   "metadata": {},
   "outputs": [],
   "source": [
    "import datetime as dt"
   ]
  },
  {
   "cell_type": "code",
   "execution_count": 4,
   "id": "7752eeae-39ba-458d-8623-0c7f28b82d95",
   "metadata": {},
   "outputs": [
    {
     "data": {
      "text/html": [
       "<div>\n",
       "<style scoped>\n",
       "    .dataframe tbody tr th:only-of-type {\n",
       "        vertical-align: middle;\n",
       "    }\n",
       "\n",
       "    .dataframe tbody tr th {\n",
       "        vertical-align: top;\n",
       "    }\n",
       "\n",
       "    .dataframe thead th {\n",
       "        text-align: right;\n",
       "    }\n",
       "</style>\n",
       "<table border=\"1\" class=\"dataframe\">\n",
       "  <thead>\n",
       "    <tr style=\"text-align: right;\">\n",
       "      <th></th>\n",
       "      <th>date</th>\n",
       "      <th>cloud_cover</th>\n",
       "      <th>sunshine</th>\n",
       "      <th>global_radiation</th>\n",
       "      <th>max_temp</th>\n",
       "      <th>mean_temp</th>\n",
       "      <th>min_temp</th>\n",
       "      <th>precipitation</th>\n",
       "      <th>pressure</th>\n",
       "      <th>snow_depth</th>\n",
       "    </tr>\n",
       "  </thead>\n",
       "  <tbody>\n",
       "    <tr>\n",
       "      <th>0</th>\n",
       "      <td>19790101</td>\n",
       "      <td>2.00</td>\n",
       "      <td>7.00</td>\n",
       "      <td>52.00</td>\n",
       "      <td>2.30</td>\n",
       "      <td>-4.10</td>\n",
       "      <td>-7.50</td>\n",
       "      <td>0.40</td>\n",
       "      <td>101,900.00</td>\n",
       "      <td>9.00</td>\n",
       "    </tr>\n",
       "    <tr>\n",
       "      <th>1</th>\n",
       "      <td>19790102</td>\n",
       "      <td>6.00</td>\n",
       "      <td>1.70</td>\n",
       "      <td>27.00</td>\n",
       "      <td>1.60</td>\n",
       "      <td>-2.60</td>\n",
       "      <td>-7.50</td>\n",
       "      <td>0.00</td>\n",
       "      <td>102,530.00</td>\n",
       "      <td>8.00</td>\n",
       "    </tr>\n",
       "    <tr>\n",
       "      <th>2</th>\n",
       "      <td>19790103</td>\n",
       "      <td>5.00</td>\n",
       "      <td>0.00</td>\n",
       "      <td>13.00</td>\n",
       "      <td>1.30</td>\n",
       "      <td>-2.80</td>\n",
       "      <td>-7.20</td>\n",
       "      <td>0.00</td>\n",
       "      <td>102,050.00</td>\n",
       "      <td>4.00</td>\n",
       "    </tr>\n",
       "    <tr>\n",
       "      <th>3</th>\n",
       "      <td>19790104</td>\n",
       "      <td>8.00</td>\n",
       "      <td>0.00</td>\n",
       "      <td>13.00</td>\n",
       "      <td>-0.30</td>\n",
       "      <td>-2.60</td>\n",
       "      <td>-6.50</td>\n",
       "      <td>0.00</td>\n",
       "      <td>100,840.00</td>\n",
       "      <td>2.00</td>\n",
       "    </tr>\n",
       "    <tr>\n",
       "      <th>4</th>\n",
       "      <td>19790105</td>\n",
       "      <td>6.00</td>\n",
       "      <td>2.00</td>\n",
       "      <td>29.00</td>\n",
       "      <td>5.60</td>\n",
       "      <td>-0.80</td>\n",
       "      <td>-1.40</td>\n",
       "      <td>0.00</td>\n",
       "      <td>102,250.00</td>\n",
       "      <td>1.00</td>\n",
       "    </tr>\n",
       "  </tbody>\n",
       "</table>\n",
       "</div>"
      ],
      "text/plain": [
       "       date  cloud_cover  sunshine  global_radiation  max_temp  mean_temp  \\\n",
       "0  19790101         2.00      7.00             52.00      2.30      -4.10   \n",
       "1  19790102         6.00      1.70             27.00      1.60      -2.60   \n",
       "2  19790103         5.00      0.00             13.00      1.30      -2.80   \n",
       "3  19790104         8.00      0.00             13.00     -0.30      -2.60   \n",
       "4  19790105         6.00      2.00             29.00      5.60      -0.80   \n",
       "\n",
       "   min_temp  precipitation   pressure  snow_depth  \n",
       "0     -7.50           0.40 101,900.00        9.00  \n",
       "1     -7.50           0.00 102,530.00        8.00  \n",
       "2     -7.20           0.00 102,050.00        4.00  \n",
       "3     -6.50           0.00 100,840.00        2.00  \n",
       "4     -1.40           0.00 102,250.00        1.00  "
      ]
     },
     "execution_count": 4,
     "metadata": {},
     "output_type": "execute_result"
    }
   ],
   "source": [
    "df  = pd.read_csv(\"Data/london_weather_MODIFIED - london_weather_MODIFIED.csv\" , low_memory=False)\n",
    "df.head()"
   ]
  },
  {
   "cell_type": "code",
   "execution_count": 5,
   "id": "2f66f569-6411-4d1a-b806-6f0730e245da",
   "metadata": {},
   "outputs": [
    {
     "data": {
      "text/plain": [
       "datetime.datetime(2024, 2, 2, 15, 59, 26, 677298)"
      ]
     },
     "execution_count": 5,
     "metadata": {},
     "output_type": "execute_result"
    }
   ],
   "source": [
    "## You can obtain the current date and time with .now()\n",
    "now = dt.datetime.now()\n",
    "now"
   ]
  },
  {
   "cell_type": "code",
   "execution_count": 6,
   "id": "f6d55e48-e711-4af3-903d-d7227091f80b",
   "metadata": {},
   "outputs": [
    {
     "name": "stdout",
     "output_type": "stream",
     "text": [
      "<class 'pandas.core.frame.DataFrame'>\n",
      "RangeIndex: 15341 entries, 0 to 15340\n",
      "Data columns (total 10 columns):\n",
      " #   Column            Non-Null Count  Dtype  \n",
      "---  ------            --------------  -----  \n",
      " 0   date              15341 non-null  int64  \n",
      " 1   cloud_cover       14938 non-null  float64\n",
      " 2   sunshine          14957 non-null  float64\n",
      " 3   global_radiation  14939 non-null  float64\n",
      " 4   max_temp          14951 non-null  float64\n",
      " 5   mean_temp         14922 non-null  float64\n",
      " 6   min_temp          14955 non-null  float64\n",
      " 7   precipitation     14951 non-null  float64\n",
      " 8   pressure          14953 non-null  float64\n",
      " 9   snow_depth        13589 non-null  float64\n",
      "dtypes: float64(9), int64(1)\n",
      "memory usage: 1.2 MB\n"
     ]
    },
    {
     "data": {
      "text/html": [
       "<div>\n",
       "<style scoped>\n",
       "    .dataframe tbody tr th:only-of-type {\n",
       "        vertical-align: middle;\n",
       "    }\n",
       "\n",
       "    .dataframe tbody tr th {\n",
       "        vertical-align: top;\n",
       "    }\n",
       "\n",
       "    .dataframe thead th {\n",
       "        text-align: right;\n",
       "    }\n",
       "</style>\n",
       "<table border=\"1\" class=\"dataframe\">\n",
       "  <thead>\n",
       "    <tr style=\"text-align: right;\">\n",
       "      <th></th>\n",
       "      <th>date</th>\n",
       "      <th>cloud_cover</th>\n",
       "      <th>sunshine</th>\n",
       "      <th>global_radiation</th>\n",
       "      <th>max_temp</th>\n",
       "      <th>mean_temp</th>\n",
       "      <th>min_temp</th>\n",
       "      <th>precipitation</th>\n",
       "      <th>pressure</th>\n",
       "      <th>snow_depth</th>\n",
       "    </tr>\n",
       "  </thead>\n",
       "  <tbody>\n",
       "    <tr>\n",
       "      <th>0</th>\n",
       "      <td>19790101</td>\n",
       "      <td>2.00</td>\n",
       "      <td>7.00</td>\n",
       "      <td>52.00</td>\n",
       "      <td>2.30</td>\n",
       "      <td>-4.10</td>\n",
       "      <td>-7.50</td>\n",
       "      <td>0.40</td>\n",
       "      <td>101,900.00</td>\n",
       "      <td>9.00</td>\n",
       "    </tr>\n",
       "    <tr>\n",
       "      <th>1</th>\n",
       "      <td>19790102</td>\n",
       "      <td>6.00</td>\n",
       "      <td>1.70</td>\n",
       "      <td>27.00</td>\n",
       "      <td>1.60</td>\n",
       "      <td>-2.60</td>\n",
       "      <td>-7.50</td>\n",
       "      <td>0.00</td>\n",
       "      <td>102,530.00</td>\n",
       "      <td>8.00</td>\n",
       "    </tr>\n",
       "    <tr>\n",
       "      <th>2</th>\n",
       "      <td>19790103</td>\n",
       "      <td>5.00</td>\n",
       "      <td>0.00</td>\n",
       "      <td>13.00</td>\n",
       "      <td>1.30</td>\n",
       "      <td>-2.80</td>\n",
       "      <td>-7.20</td>\n",
       "      <td>0.00</td>\n",
       "      <td>102,050.00</td>\n",
       "      <td>4.00</td>\n",
       "    </tr>\n",
       "  </tbody>\n",
       "</table>\n",
       "</div>"
      ],
      "text/plain": [
       "       date  cloud_cover  sunshine  global_radiation  max_temp  mean_temp  \\\n",
       "0  19790101         2.00      7.00             52.00      2.30      -4.10   \n",
       "1  19790102         6.00      1.70             27.00      1.60      -2.60   \n",
       "2  19790103         5.00      0.00             13.00      1.30      -2.80   \n",
       "\n",
       "   min_temp  precipitation   pressure  snow_depth  \n",
       "0     -7.50           0.40 101,900.00        9.00  \n",
       "1     -7.50           0.00 102,530.00        8.00  \n",
       "2     -7.20           0.00 102,050.00        4.00  "
      ]
     },
     "execution_count": 6,
     "metadata": {},
     "output_type": "execute_result"
    }
   ],
   "source": [
    "#Add a datetime column based on the string in the \"date\" column\n",
    "df.info()\n",
    "df.head(3)"
   ]
  },
  {
   "cell_type": "code",
   "execution_count": 7,
   "id": "a72e6703-d196-4cce-9fea-cbafff267cd2",
   "metadata": {},
   "outputs": [
    {
     "data": {
      "text/plain": [
       "19790101"
      ]
     },
     "execution_count": 7,
     "metadata": {},
     "output_type": "execute_result"
    }
   ],
   "source": [
    "## preview first row from the date column (string)\n",
    "df.loc[0,'date']"
   ]
  },
  {
   "cell_type": "code",
   "execution_count": 8,
   "id": "3b2eed0c-a7aa-4dfa-9a11-e65f71d922c9",
   "metadata": {},
   "outputs": [
    {
     "data": {
      "text/plain": [
       "19790101"
      ]
     },
     "execution_count": 8,
     "metadata": {},
     "output_type": "execute_result"
    }
   ],
   "source": [
    "## preview first row from the datetime column (datetime64[ns])\n",
    "df.loc[0,'date']"
   ]
  },
  {
   "cell_type": "code",
   "execution_count": 9,
   "id": "52cf3c4a-114e-4562-9d01-8fc959e314f5",
   "metadata": {},
   "outputs": [],
   "source": [
    "## Set the date format\n",
    "fmt = '%Y%m%d'"
   ]
  },
  {
   "cell_type": "code",
   "execution_count": 10,
   "id": "a0b413eb-b742-4981-9d97-69b48d6de01b",
   "metadata": {},
   "outputs": [],
   "source": [
    "## convert datetime to datetime\n",
    "df['date'] = pd.to_datetime(df['date'], format=fmt)"
   ]
  },
  {
   "cell_type": "code",
   "execution_count": 11,
   "id": "103d7038-dda6-4f65-859c-de9b09c4470f",
   "metadata": {},
   "outputs": [
    {
     "data": {
      "text/html": [
       "<div>\n",
       "<style scoped>\n",
       "    .dataframe tbody tr th:only-of-type {\n",
       "        vertical-align: middle;\n",
       "    }\n",
       "\n",
       "    .dataframe tbody tr th {\n",
       "        vertical-align: top;\n",
       "    }\n",
       "\n",
       "    .dataframe thead th {\n",
       "        text-align: right;\n",
       "    }\n",
       "</style>\n",
       "<table border=\"1\" class=\"dataframe\">\n",
       "  <thead>\n",
       "    <tr style=\"text-align: right;\">\n",
       "      <th></th>\n",
       "      <th>cloud_cover</th>\n",
       "      <th>sunshine</th>\n",
       "      <th>global_radiation</th>\n",
       "      <th>max_temp</th>\n",
       "      <th>mean_temp</th>\n",
       "      <th>min_temp</th>\n",
       "      <th>precipitation</th>\n",
       "      <th>pressure</th>\n",
       "      <th>snow_depth</th>\n",
       "    </tr>\n",
       "    <tr>\n",
       "      <th>date</th>\n",
       "      <th></th>\n",
       "      <th></th>\n",
       "      <th></th>\n",
       "      <th></th>\n",
       "      <th></th>\n",
       "      <th></th>\n",
       "      <th></th>\n",
       "      <th></th>\n",
       "      <th></th>\n",
       "    </tr>\n",
       "  </thead>\n",
       "  <tbody>\n",
       "    <tr>\n",
       "      <th>1979-01-01</th>\n",
       "      <td>2.00</td>\n",
       "      <td>7.00</td>\n",
       "      <td>52.00</td>\n",
       "      <td>2.30</td>\n",
       "      <td>-4.10</td>\n",
       "      <td>-7.50</td>\n",
       "      <td>0.40</td>\n",
       "      <td>101,900.00</td>\n",
       "      <td>9.00</td>\n",
       "    </tr>\n",
       "    <tr>\n",
       "      <th>1979-01-02</th>\n",
       "      <td>6.00</td>\n",
       "      <td>1.70</td>\n",
       "      <td>27.00</td>\n",
       "      <td>1.60</td>\n",
       "      <td>-2.60</td>\n",
       "      <td>-7.50</td>\n",
       "      <td>0.00</td>\n",
       "      <td>102,530.00</td>\n",
       "      <td>8.00</td>\n",
       "    </tr>\n",
       "    <tr>\n",
       "      <th>1979-01-03</th>\n",
       "      <td>5.00</td>\n",
       "      <td>0.00</td>\n",
       "      <td>13.00</td>\n",
       "      <td>1.30</td>\n",
       "      <td>-2.80</td>\n",
       "      <td>-7.20</td>\n",
       "      <td>0.00</td>\n",
       "      <td>102,050.00</td>\n",
       "      <td>4.00</td>\n",
       "    </tr>\n",
       "    <tr>\n",
       "      <th>1979-01-04</th>\n",
       "      <td>8.00</td>\n",
       "      <td>0.00</td>\n",
       "      <td>13.00</td>\n",
       "      <td>-0.30</td>\n",
       "      <td>-2.60</td>\n",
       "      <td>-6.50</td>\n",
       "      <td>0.00</td>\n",
       "      <td>100,840.00</td>\n",
       "      <td>2.00</td>\n",
       "    </tr>\n",
       "    <tr>\n",
       "      <th>1979-01-05</th>\n",
       "      <td>6.00</td>\n",
       "      <td>2.00</td>\n",
       "      <td>29.00</td>\n",
       "      <td>5.60</td>\n",
       "      <td>-0.80</td>\n",
       "      <td>-1.40</td>\n",
       "      <td>0.00</td>\n",
       "      <td>102,250.00</td>\n",
       "      <td>1.00</td>\n",
       "    </tr>\n",
       "    <tr>\n",
       "      <th>...</th>\n",
       "      <td>...</td>\n",
       "      <td>...</td>\n",
       "      <td>...</td>\n",
       "      <td>...</td>\n",
       "      <td>...</td>\n",
       "      <td>...</td>\n",
       "      <td>...</td>\n",
       "      <td>...</td>\n",
       "      <td>...</td>\n",
       "    </tr>\n",
       "    <tr>\n",
       "      <th>2020-12-27</th>\n",
       "      <td>1.00</td>\n",
       "      <td>0.90</td>\n",
       "      <td>32.00</td>\n",
       "      <td>7.50</td>\n",
       "      <td>7.50</td>\n",
       "      <td>7.60</td>\n",
       "      <td>2.00</td>\n",
       "      <td>98,000.00</td>\n",
       "      <td>NaN</td>\n",
       "    </tr>\n",
       "    <tr>\n",
       "      <th>2020-12-28</th>\n",
       "      <td>7.00</td>\n",
       "      <td>3.70</td>\n",
       "      <td>38.00</td>\n",
       "      <td>3.60</td>\n",
       "      <td>1.10</td>\n",
       "      <td>-1.30</td>\n",
       "      <td>0.20</td>\n",
       "      <td>97,370.00</td>\n",
       "      <td>NaN</td>\n",
       "    </tr>\n",
       "    <tr>\n",
       "      <th>2020-12-29</th>\n",
       "      <td>7.00</td>\n",
       "      <td>0.00</td>\n",
       "      <td>21.00</td>\n",
       "      <td>4.10</td>\n",
       "      <td>2.60</td>\n",
       "      <td>1.10</td>\n",
       "      <td>0.00</td>\n",
       "      <td>98,830.00</td>\n",
       "      <td>NaN</td>\n",
       "    </tr>\n",
       "    <tr>\n",
       "      <th>2020-12-30</th>\n",
       "      <td>6.00</td>\n",
       "      <td>0.40</td>\n",
       "      <td>22.00</td>\n",
       "      <td>5.60</td>\n",
       "      <td>2.70</td>\n",
       "      <td>-0.10</td>\n",
       "      <td>0.00</td>\n",
       "      <td>100,200.00</td>\n",
       "      <td>NaN</td>\n",
       "    </tr>\n",
       "    <tr>\n",
       "      <th>2020-12-31</th>\n",
       "      <td>7.00</td>\n",
       "      <td>1.30</td>\n",
       "      <td>34.00</td>\n",
       "      <td>1.50</td>\n",
       "      <td>-0.80</td>\n",
       "      <td>-3.10</td>\n",
       "      <td>0.00</td>\n",
       "      <td>100,500.00</td>\n",
       "      <td>NaN</td>\n",
       "    </tr>\n",
       "  </tbody>\n",
       "</table>\n",
       "<p>15341 rows × 9 columns</p>\n",
       "</div>"
      ],
      "text/plain": [
       "            cloud_cover  sunshine  global_radiation  max_temp  mean_temp  \\\n",
       "date                                                                       \n",
       "1979-01-01         2.00      7.00             52.00      2.30      -4.10   \n",
       "1979-01-02         6.00      1.70             27.00      1.60      -2.60   \n",
       "1979-01-03         5.00      0.00             13.00      1.30      -2.80   \n",
       "1979-01-04         8.00      0.00             13.00     -0.30      -2.60   \n",
       "1979-01-05         6.00      2.00             29.00      5.60      -0.80   \n",
       "...                 ...       ...               ...       ...        ...   \n",
       "2020-12-27         1.00      0.90             32.00      7.50       7.50   \n",
       "2020-12-28         7.00      3.70             38.00      3.60       1.10   \n",
       "2020-12-29         7.00      0.00             21.00      4.10       2.60   \n",
       "2020-12-30         6.00      0.40             22.00      5.60       2.70   \n",
       "2020-12-31         7.00      1.30             34.00      1.50      -0.80   \n",
       "\n",
       "            min_temp  precipitation   pressure  snow_depth  \n",
       "date                                                        \n",
       "1979-01-01     -7.50           0.40 101,900.00        9.00  \n",
       "1979-01-02     -7.50           0.00 102,530.00        8.00  \n",
       "1979-01-03     -7.20           0.00 102,050.00        4.00  \n",
       "1979-01-04     -6.50           0.00 100,840.00        2.00  \n",
       "1979-01-05     -1.40           0.00 102,250.00        1.00  \n",
       "...              ...            ...        ...         ...  \n",
       "2020-12-27      7.60           2.00  98,000.00         NaN  \n",
       "2020-12-28     -1.30           0.20  97,370.00         NaN  \n",
       "2020-12-29      1.10           0.00  98,830.00         NaN  \n",
       "2020-12-30     -0.10           0.00 100,200.00         NaN  \n",
       "2020-12-31     -3.10           0.00 100,500.00         NaN  \n",
       "\n",
       "[15341 rows x 9 columns]"
      ]
     },
     "execution_count": 11,
     "metadata": {},
     "output_type": "execute_result"
    }
   ],
   "source": [
    "df_ts = df.set_index('date')\n",
    "df_ts"
   ]
  },
  {
   "cell_type": "code",
   "execution_count": 12,
   "id": "66660819-8930-4129-a892-9a307ee323cf",
   "metadata": {},
   "outputs": [
    {
     "data": {
      "text/plain": [
       "DatetimeIndex(['1979-01-01', '1979-01-02', '1979-01-03', '1979-01-04',\n",
       "               '1979-01-05', '1979-01-06', '1979-01-07', '1979-01-08',\n",
       "               '1979-01-09', '1979-01-10',\n",
       "               ...\n",
       "               '2020-12-22', '2020-12-23', '2020-12-24', '2020-12-25',\n",
       "               '2020-12-26', '2020-12-27', '2020-12-28', '2020-12-29',\n",
       "               '2020-12-30', '2020-12-31'],\n",
       "              dtype='datetime64[ns]', name='date', length=15341, freq=None)"
      ]
     },
     "execution_count": 12,
     "metadata": {},
     "output_type": "execute_result"
    }
   ],
   "source": [
    "# check the index to confirm its datetime\n",
    "df_ts.index"
   ]
  },
  {
   "cell_type": "code",
   "execution_count": 13,
   "id": "68c1bd14-331e-469c-98cf-d7e102a72021",
   "metadata": {},
   "outputs": [
    {
     "data": {
      "text/html": [
       "<div>\n",
       "<style scoped>\n",
       "    .dataframe tbody tr th:only-of-type {\n",
       "        vertical-align: middle;\n",
       "    }\n",
       "\n",
       "    .dataframe tbody tr th {\n",
       "        vertical-align: top;\n",
       "    }\n",
       "\n",
       "    .dataframe thead th {\n",
       "        text-align: right;\n",
       "    }\n",
       "</style>\n",
       "<table border=\"1\" class=\"dataframe\">\n",
       "  <thead>\n",
       "    <tr style=\"text-align: right;\">\n",
       "      <th></th>\n",
       "      <th>mean_temp</th>\n",
       "      <th>min_temp</th>\n",
       "      <th>max_temp</th>\n",
       "      <th>snow_depth</th>\n",
       "      <th>precipitation</th>\n",
       "    </tr>\n",
       "    <tr>\n",
       "      <th>date</th>\n",
       "      <th></th>\n",
       "      <th></th>\n",
       "      <th></th>\n",
       "      <th></th>\n",
       "      <th></th>\n",
       "    </tr>\n",
       "  </thead>\n",
       "  <tbody>\n",
       "    <tr>\n",
       "      <th>2000-01-01</th>\n",
       "      <td>7.00</td>\n",
       "      <td>4.90</td>\n",
       "      <td>10.80</td>\n",
       "      <td>0.00</td>\n",
       "      <td>0.00</td>\n",
       "    </tr>\n",
       "    <tr>\n",
       "      <th>2000-01-02</th>\n",
       "      <td>7.90</td>\n",
       "      <td>5.00</td>\n",
       "      <td>11.50</td>\n",
       "      <td>0.00</td>\n",
       "      <td>0.20</td>\n",
       "    </tr>\n",
       "    <tr>\n",
       "      <th>2000-01-03</th>\n",
       "      <td>9.40</td>\n",
       "      <td>7.20</td>\n",
       "      <td>9.50</td>\n",
       "      <td>0.00</td>\n",
       "      <td>6.00</td>\n",
       "    </tr>\n",
       "    <tr>\n",
       "      <th>2000-01-04</th>\n",
       "      <td>7.00</td>\n",
       "      <td>4.40</td>\n",
       "      <td>11.00</td>\n",
       "      <td>0.00</td>\n",
       "      <td>0.20</td>\n",
       "    </tr>\n",
       "    <tr>\n",
       "      <th>2000-01-05</th>\n",
       "      <td>6.40</td>\n",
       "      <td>1.90</td>\n",
       "      <td>10.80</td>\n",
       "      <td>0.00</td>\n",
       "      <td>0.80</td>\n",
       "    </tr>\n",
       "    <tr>\n",
       "      <th>...</th>\n",
       "      <td>...</td>\n",
       "      <td>...</td>\n",
       "      <td>...</td>\n",
       "      <td>...</td>\n",
       "      <td>...</td>\n",
       "    </tr>\n",
       "    <tr>\n",
       "      <th>2020-12-27</th>\n",
       "      <td>7.50</td>\n",
       "      <td>7.60</td>\n",
       "      <td>7.50</td>\n",
       "      <td>NaN</td>\n",
       "      <td>2.00</td>\n",
       "    </tr>\n",
       "    <tr>\n",
       "      <th>2020-12-28</th>\n",
       "      <td>1.10</td>\n",
       "      <td>-1.30</td>\n",
       "      <td>3.60</td>\n",
       "      <td>NaN</td>\n",
       "      <td>0.20</td>\n",
       "    </tr>\n",
       "    <tr>\n",
       "      <th>2020-12-29</th>\n",
       "      <td>2.60</td>\n",
       "      <td>1.10</td>\n",
       "      <td>4.10</td>\n",
       "      <td>NaN</td>\n",
       "      <td>0.00</td>\n",
       "    </tr>\n",
       "    <tr>\n",
       "      <th>2020-12-30</th>\n",
       "      <td>2.70</td>\n",
       "      <td>-0.10</td>\n",
       "      <td>5.60</td>\n",
       "      <td>NaN</td>\n",
       "      <td>0.00</td>\n",
       "    </tr>\n",
       "    <tr>\n",
       "      <th>2020-12-31</th>\n",
       "      <td>-0.80</td>\n",
       "      <td>-3.10</td>\n",
       "      <td>1.50</td>\n",
       "      <td>NaN</td>\n",
       "      <td>0.00</td>\n",
       "    </tr>\n",
       "  </tbody>\n",
       "</table>\n",
       "<p>7671 rows × 5 columns</p>\n",
       "</div>"
      ],
      "text/plain": [
       "            mean_temp  min_temp  max_temp  snow_depth  precipitation\n",
       "date                                                                \n",
       "2000-01-01       7.00      4.90     10.80        0.00           0.00\n",
       "2000-01-02       7.90      5.00     11.50        0.00           0.20\n",
       "2000-01-03       9.40      7.20      9.50        0.00           6.00\n",
       "2000-01-04       7.00      4.40     11.00        0.00           0.20\n",
       "2000-01-05       6.40      1.90     10.80        0.00           0.80\n",
       "...               ...       ...       ...         ...            ...\n",
       "2020-12-27       7.50      7.60      7.50         NaN           2.00\n",
       "2020-12-28       1.10     -1.30      3.60         NaN           0.20\n",
       "2020-12-29       2.60      1.10      4.10         NaN           0.00\n",
       "2020-12-30       2.70     -0.10      5.60         NaN           0.00\n",
       "2020-12-31      -0.80     -3.10      1.50         NaN           0.00\n",
       "\n",
       "[7671 rows x 5 columns]"
      ]
     },
     "execution_count": 13,
     "metadata": {},
     "output_type": "execute_result"
    }
   ],
   "source": [
    "weather = df_ts.loc['2000':, ['mean_temp','min_temp','max_temp','snow_depth','precipitation']]\n",
    "weather"
   ]
  },
  {
   "cell_type": "code",
   "execution_count": 14,
   "id": "0056b3d2-86bb-474e-83ea-21b47c0f9091",
   "metadata": {},
   "outputs": [],
   "source": [
    "weather['min_temp'] = weather['min_temp'].interpolate()"
   ]
  },
  {
   "cell_type": "code",
   "execution_count": 15,
   "id": "ca98e8b6-ef97-439c-b1fb-34dbdaca8a0c",
   "metadata": {},
   "outputs": [],
   "source": [
    "weather['mean_temp'] = weather['mean_temp'].interpolate()"
   ]
  },
  {
   "cell_type": "code",
   "execution_count": 16,
   "id": "f3c776a6-698e-45f8-9118-887047ee6e4f",
   "metadata": {},
   "outputs": [],
   "source": [
    "weather['max_temp'] = weather['max_temp'].interpolate()"
   ]
  },
  {
   "cell_type": "code",
   "execution_count": 17,
   "id": "3e2253ef-c8f2-4071-aaf1-fddff5859a1e",
   "metadata": {},
   "outputs": [],
   "source": [
    "weather['snow_depth'] = weather['snow_depth'].fillna(0)"
   ]
  },
  {
   "cell_type": "code",
   "execution_count": 18,
   "id": "82757635-01bf-43fd-bd03-d89249efde2b",
   "metadata": {},
   "outputs": [],
   "source": [
    "weather['precipitation'] = weather['precipitation'].fillna(0)"
   ]
  },
  {
   "cell_type": "code",
   "execution_count": 19,
   "id": "277a5aca-93a1-4cc8-8dba-b29891ddf058",
   "metadata": {},
   "outputs": [
    {
     "name": "stdout",
     "output_type": "stream",
     "text": [
      "2015-08-26 00:00:00\n",
      "51.6\n"
     ]
    }
   ],
   "source": [
    "print(weather['precipitation'].idxmax())\n",
    "print(weather['precipitation'].max())"
   ]
  },
  {
   "cell_type": "code",
   "execution_count": 20,
   "id": "b2b79c15-f1b9-4045-b9bb-c0e15aeb1b50",
   "metadata": {},
   "outputs": [],
   "source": [
    "max_precip= weather['precipitation'].resample('m').sum()"
   ]
  },
  {
   "cell_type": "code",
   "execution_count": 21,
   "id": "dddcad81-7e95-432f-84f5-1e6c80ca2418",
   "metadata": {},
   "outputs": [],
   "source": [
    "max_precip= max_precip.loc['2000':'2010']"
   ]
  },
  {
   "cell_type": "code",
   "execution_count": 22,
   "id": "fc49187a-44d3-4431-82e3-fb1a070e6562",
   "metadata": {},
   "outputs": [
    {
     "data": {
      "text/plain": [
       "<Axes: xlabel='date'>"
      ]
     },
     "execution_count": 22,
     "metadata": {},
     "output_type": "execute_result"
    },
    {
     "data": {
      "image/png": "[encoded data removed]",
      "text/plain": [
       "<Figure size 640x480 with 1 Axes>"
      ]
     },
     "metadata": {},
     "output_type": "display_data"
    }
   ],
   "source": [
    "max_precip.plot()"
   ]
  },
  {
   "cell_type": "code",
   "execution_count": 23,
   "id": "30dae8c6-cd57-44ee-8343-2e67f4dca7de",
   "metadata": {},
   "outputs": [],
   "source": [
    "cool_temp= weather['mean_temp'].resample('A').mean()"
   ]
  },
  {
   "cell_type": "code",
   "execution_count": 24,
   "id": "f2c7ed2a-5b81-48ba-8762-d7ad34825f32",
   "metadata": {},
   "outputs": [],
   "source": [
    "cool_temp= cool_temp.loc['2000':'2020']"
   ]
  },
  {
   "cell_type": "code",
   "execution_count": 25,
   "id": "813e5ed0-64b0-4cba-891c-b23636b307e1",
   "metadata": {},
   "outputs": [
    {
     "data": {
      "text/plain": [
       "<Axes: xlabel='date'>"
      ]
     },
     "execution_count": 25,
     "metadata": {},
     "output_type": "execute_result"
    },
    {
     "data": {
      "image/png": "[encoded data removed]",
      "text/plain": [
       "<Figure size 640x480 with 1 Axes>"
      ]
     },
     "metadata": {},
     "output_type": "display_data"
    }
   ],
   "source": [
    "cool_temp.plot()"
   ]
  },
  {
   "cell_type": "code",
   "execution_count": 26,
   "id": "5fffbb5d-c80d-4bde-bd9e-2fa2b31312e6",
   "metadata": {},
   "outputs": [
    {
     "name": "stdout",
     "output_type": "stream",
     "text": [
      "2010-12-20 00:00:00\n",
      "-4.1\n"
     ]
    }
   ],
   "source": [
    "print(weather['mean_temp'].idxmin())\n",
    "print(weather['mean_temp'].min())"
   ]
  },
  {
   "cell_type": "code",
   "execution_count": null,
   "id": "0f0c0b8a-1a8d-4e3c-aea6-6819e0b69ed3",
   "metadata": {},
   "outputs": [],
   "source": []
  }
 ],
 "metadata": {
  "kernelspec": {
   "display_name": "Python 3 (ipykernel)",
   "language": "python",
   "name": "python3"
  },
  "language_info": {
   "codemirror_mode": {
    "name": "ipython",
    "version": 3
   },
   "file_extension": ".py",
   "mimetype": "text/x-python",
   "name": "python",
   "nbconvert_exporter": "python",
   "pygments_lexer": "ipython3",
   "version": "3.10.10"
  },
  "widgets": {
   "application/vnd.jupyter.widget-state+json": {
    "state": {},
    "version_major": 2,
    "version_minor": 0
   }
  }
 },
 "nbformat": 4,
 "nbformat_minor": 5
}
