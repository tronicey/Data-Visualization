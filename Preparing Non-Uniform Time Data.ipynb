{
 "cells": [
  {
   "cell_type": "code",
   "execution_count": 1,
   "id": "198aa17e-0ed2-4de0-af8d-4837c5f6cf2a",
   "metadata": {},
   "outputs": [],
   "source": [
    "import pandas as pd\n",
    "import numpy as np\n",
    "import matplotlib as mpl\n",
    "import matplotlib.pyplot as plt\n",
    "import seaborn as sns\n",
    "import os\n",
    "#import tick customization tools\n",
    "import matplotlib.ticker as mticks\n",
    "import matplotlib.dates as mdates\n",
    "## Setting figures to timeseries-friendly\n",
    "plt.rcParams['figure.figsize'] = (12,4)\n",
    "plt.rcParams['figure.facecolor'] = 'white'\n",
    "sns.set_context(\"talk\", font_scale=0.9)\n",
    "# set random seed\n",
    "SEED = 321\n",
    "np.random.seed(SEED)\n",
    "#display more columns\n",
    "pd.set_option('display.max_columns',50)\n"
   ]
  },
  {
   "cell_type": "code",
   "execution_count": 2,
   "id": "fce2a4b0-ac81-4acc-8182-cac8ed6984d0",
   "metadata": {},
   "outputs": [
    {
     "name": "stdout",
     "output_type": "stream",
     "text": [
      "<class 'pandas.core.frame.DataFrame'>\n",
      "RangeIndex: 4782 entries, 0 to 4781\n",
      "Data columns (total 14 columns):\n",
      " #   Column                Non-Null Count  Dtype  \n",
      "---  ------                --------------  -----  \n",
      " 0   CrimeDateTime         4782 non-null   object \n",
      " 1   RAPE                  4779 non-null   float64\n",
      " 2   LARCENY               4782 non-null   int64  \n",
      " 3   AGG. ASSAULT          4782 non-null   int64  \n",
      " 4   LARCENY FROM AUTO     4782 non-null   int64  \n",
      " 5   BURGLARY              4782 non-null   int64  \n",
      " 6   COMMON ASSAULT        4782 non-null   int64  \n",
      " 7   AUTO THEFT            4782 non-null   int64  \n",
      " 8   ROBBERY               4782 non-null   int64  \n",
      " 9   ROBBERY - COMMERCIAL  4782 non-null   int64  \n",
      " 10  ARSON                 4768 non-null   float64\n",
      " 11  ROBBERY - CARJACKING  4774 non-null   float64\n",
      " 12  HOMICIDE              4414 non-null   float64\n",
      " 13  SHOOTING              4398 non-null   float64\n",
      "dtypes: float64(5), int64(8), object(1)\n",
      "memory usage: 523.2+ KB\n"
     ]
    },
    {
     "data": {
      "text/html": [
       "<div>\n",
       "<style scoped>\n",
       "    .dataframe tbody tr th:only-of-type {\n",
       "        vertical-align: middle;\n",
       "    }\n",
       "\n",
       "    .dataframe tbody tr th {\n",
       "        vertical-align: top;\n",
       "    }\n",
       "\n",
       "    .dataframe thead th {\n",
       "        text-align: right;\n",
       "    }\n",
       "</style>\n",
       "<table border=\"1\" class=\"dataframe\">\n",
       "  <thead>\n",
       "    <tr style=\"text-align: right;\">\n",
       "      <th></th>\n",
       "      <th>CrimeDateTime</th>\n",
       "      <th>RAPE</th>\n",
       "      <th>LARCENY</th>\n",
       "      <th>AGG. ASSAULT</th>\n",
       "      <th>LARCENY FROM AUTO</th>\n",
       "      <th>BURGLARY</th>\n",
       "      <th>COMMON ASSAULT</th>\n",
       "      <th>AUTO THEFT</th>\n",
       "      <th>ROBBERY</th>\n",
       "      <th>ROBBERY - COMMERCIAL</th>\n",
       "      <th>ARSON</th>\n",
       "      <th>ROBBERY - CARJACKING</th>\n",
       "      <th>HOMICIDE</th>\n",
       "      <th>SHOOTING</th>\n",
       "    </tr>\n",
       "  </thead>\n",
       "  <tbody>\n",
       "    <tr>\n",
       "      <th>0</th>\n",
       "      <td>2011-01-01 00:00:00+00:00</td>\n",
       "      <td>5.0</td>\n",
       "      <td>39</td>\n",
       "      <td>28</td>\n",
       "      <td>27</td>\n",
       "      <td>21</td>\n",
       "      <td>41</td>\n",
       "      <td>15</td>\n",
       "      <td>5</td>\n",
       "      <td>2</td>\n",
       "      <td>1.0</td>\n",
       "      <td>NaN</td>\n",
       "      <td>NaN</td>\n",
       "      <td>NaN</td>\n",
       "    </tr>\n",
       "    <tr>\n",
       "      <th>1</th>\n",
       "      <td>2011-01-02 00:00:00+00:00</td>\n",
       "      <td>2.0</td>\n",
       "      <td>20</td>\n",
       "      <td>6</td>\n",
       "      <td>20</td>\n",
       "      <td>19</td>\n",
       "      <td>14</td>\n",
       "      <td>5</td>\n",
       "      <td>10</td>\n",
       "      <td>1</td>\n",
       "      <td>0.0</td>\n",
       "      <td>NaN</td>\n",
       "      <td>NaN</td>\n",
       "      <td>NaN</td>\n",
       "    </tr>\n",
       "    <tr>\n",
       "      <th>2</th>\n",
       "      <td>2011-01-03 00:00:00+00:00</td>\n",
       "      <td>1.0</td>\n",
       "      <td>19</td>\n",
       "      <td>13</td>\n",
       "      <td>16</td>\n",
       "      <td>21</td>\n",
       "      <td>15</td>\n",
       "      <td>7</td>\n",
       "      <td>9</td>\n",
       "      <td>1</td>\n",
       "      <td>0.0</td>\n",
       "      <td>NaN</td>\n",
       "      <td>NaN</td>\n",
       "      <td>NaN</td>\n",
       "    </tr>\n",
       "    <tr>\n",
       "      <th>3</th>\n",
       "      <td>2011-01-04 00:00:00+00:00</td>\n",
       "      <td>1.0</td>\n",
       "      <td>29</td>\n",
       "      <td>11</td>\n",
       "      <td>12</td>\n",
       "      <td>12</td>\n",
       "      <td>29</td>\n",
       "      <td>10</td>\n",
       "      <td>4</td>\n",
       "      <td>0</td>\n",
       "      <td>0.0</td>\n",
       "      <td>NaN</td>\n",
       "      <td>NaN</td>\n",
       "      <td>NaN</td>\n",
       "    </tr>\n",
       "    <tr>\n",
       "      <th>4</th>\n",
       "      <td>2011-01-05 00:00:00+00:00</td>\n",
       "      <td>0.0</td>\n",
       "      <td>30</td>\n",
       "      <td>9</td>\n",
       "      <td>14</td>\n",
       "      <td>28</td>\n",
       "      <td>26</td>\n",
       "      <td>10</td>\n",
       "      <td>6</td>\n",
       "      <td>2</td>\n",
       "      <td>0.0</td>\n",
       "      <td>NaN</td>\n",
       "      <td>NaN</td>\n",
       "      <td>NaN</td>\n",
       "    </tr>\n",
       "  </tbody>\n",
       "</table>\n",
       "</div>"
      ],
      "text/plain": [
       "               CrimeDateTime  RAPE  LARCENY  AGG. ASSAULT  LARCENY FROM AUTO  \\\n",
       "0  2011-01-01 00:00:00+00:00   5.0       39            28                 27   \n",
       "1  2011-01-02 00:00:00+00:00   2.0       20             6                 20   \n",
       "2  2011-01-03 00:00:00+00:00   1.0       19            13                 16   \n",
       "3  2011-01-04 00:00:00+00:00   1.0       29            11                 12   \n",
       "4  2011-01-05 00:00:00+00:00   0.0       30             9                 14   \n",
       "\n",
       "   BURGLARY  COMMON ASSAULT  AUTO THEFT  ROBBERY  ROBBERY - COMMERCIAL  ARSON  \\\n",
       "0        21              41          15        5                     2    1.0   \n",
       "1        19              14           5       10                     1    0.0   \n",
       "2        21              15           7        9                     1    0.0   \n",
       "3        12              29          10        4                     0    0.0   \n",
       "4        28              26          10        6                     2    0.0   \n",
       "\n",
       "   ROBBERY - CARJACKING  HOMICIDE  SHOOTING  \n",
       "0                   NaN       NaN       NaN  \n",
       "1                   NaN       NaN       NaN  \n",
       "2                   NaN       NaN       NaN  \n",
       "3                   NaN       NaN       NaN  \n",
       "4                   NaN       NaN       NaN  "
      ]
     },
     "execution_count": 2,
     "metadata": {},
     "output_type": "execute_result"
    }
   ],
   "source": [
    "df = pd.read_csv('Data/Part_1_Crime_Data.csv',low_memory=False)\n",
    "df.info()\n",
    "df.head()"
   ]
  },
  {
   "cell_type": "code",
   "execution_count": 3,
   "id": "09942f5b-1426-4ff4-bfc0-cb3c39510b7a",
   "metadata": {},
   "outputs": [
    {
     "data": {
      "text/plain": [
       "'2011-01-01 00:00:00+00:00'"
      ]
     },
     "execution_count": 3,
     "metadata": {},
     "output_type": "execute_result"
    }
   ],
   "source": [
    "test_date = df.loc[0, 'CrimeDateTime']\n",
    "test_date\n"
   ]
  },
  {
   "cell_type": "code",
   "execution_count": 4,
   "id": "83ed8a74-2521-4f20-8daa-99d05292aa61",
   "metadata": {},
   "outputs": [
    {
     "data": {
      "text/plain": [
       "Timestamp('2011-01-01 00:00:00+0000', tz='UTC')"
      ]
     },
     "execution_count": 4,
     "metadata": {},
     "output_type": "execute_result"
    }
   ],
   "source": [
    "test_datetime = pd.to_datetime(test_date)\n",
    "test_datetime\n"
   ]
  },
  {
   "cell_type": "markdown",
   "id": "26d75703-24b7-4a6d-9e22-45243ddcbb74",
   "metadata": {},
   "source": [
    "## Preparing the Date Time Index"
   ]
  },
  {
   "cell_type": "code",
   "execution_count": 5,
   "id": "996cfc24-4d6e-42f9-916b-78ca429803d7",
   "metadata": {},
   "outputs": [],
   "source": [
    "df['CrimeDateTime'] = pd.to_datetime(df['CrimeDateTime'])\n"
   ]
  },
  {
   "cell_type": "code",
   "execution_count": 6,
   "id": "4d0b8df6-0958-43b8-b333-a440c36382e2",
   "metadata": {},
   "outputs": [],
   "source": [
    "df['CrimeDateTime'] = pd.to_datetime(df['CrimeDateTime'],errors='coerce')\n"
   ]
  },
  {
   "cell_type": "code",
   "execution_count": 7,
   "id": "d960c5b3-67ed-4951-9f14-a7d0893a90a1",
   "metadata": {},
   "outputs": [
    {
     "data": {
      "text/plain": [
       "0"
      ]
     },
     "execution_count": 7,
     "metadata": {},
     "output_type": "execute_result"
    }
   ],
   "source": [
    "# how many null values did we create?\n",
    "df['CrimeDateTime'].isna().sum()\n"
   ]
  },
  {
   "cell_type": "code",
   "execution_count": 8,
   "id": "2292dfbf-a788-46cc-8838-9e1280b2072a",
   "metadata": {},
   "outputs": [
    {
     "data": {
      "text/plain": [
       "0"
      ]
     },
     "execution_count": 8,
     "metadata": {},
     "output_type": "execute_result"
    }
   ],
   "source": [
    "# drop the single erroneous time\n",
    "df = df.dropna(subset=['CrimeDateTime'])\n",
    "df['CrimeDateTime'].isna().sum()\n"
   ]
  },
  {
   "cell_type": "code",
   "execution_count": 9,
   "id": "87ae2dcf-a7f5-4e7a-b417-947f9f473fba",
   "metadata": {},
   "outputs": [
    {
     "data": {
      "text/html": [
       "<div>\n",
       "<style scoped>\n",
       "    .dataframe tbody tr th:only-of-type {\n",
       "        vertical-align: middle;\n",
       "    }\n",
       "\n",
       "    .dataframe tbody tr th {\n",
       "        vertical-align: top;\n",
       "    }\n",
       "\n",
       "    .dataframe thead th {\n",
       "        text-align: right;\n",
       "    }\n",
       "</style>\n",
       "<table border=\"1\" class=\"dataframe\">\n",
       "  <thead>\n",
       "    <tr style=\"text-align: right;\">\n",
       "      <th></th>\n",
       "      <th>RAPE</th>\n",
       "      <th>LARCENY</th>\n",
       "      <th>AGG. ASSAULT</th>\n",
       "      <th>LARCENY FROM AUTO</th>\n",
       "      <th>BURGLARY</th>\n",
       "      <th>COMMON ASSAULT</th>\n",
       "      <th>AUTO THEFT</th>\n",
       "      <th>ROBBERY</th>\n",
       "      <th>ROBBERY - COMMERCIAL</th>\n",
       "      <th>ARSON</th>\n",
       "      <th>ROBBERY - CARJACKING</th>\n",
       "      <th>HOMICIDE</th>\n",
       "      <th>SHOOTING</th>\n",
       "    </tr>\n",
       "    <tr>\n",
       "      <th>CrimeDateTime</th>\n",
       "      <th></th>\n",
       "      <th></th>\n",
       "      <th></th>\n",
       "      <th></th>\n",
       "      <th></th>\n",
       "      <th></th>\n",
       "      <th></th>\n",
       "      <th></th>\n",
       "      <th></th>\n",
       "      <th></th>\n",
       "      <th></th>\n",
       "      <th></th>\n",
       "      <th></th>\n",
       "    </tr>\n",
       "  </thead>\n",
       "  <tbody>\n",
       "    <tr>\n",
       "      <th>2011-01-01 00:00:00+00:00</th>\n",
       "      <td>5.0</td>\n",
       "      <td>39</td>\n",
       "      <td>28</td>\n",
       "      <td>27</td>\n",
       "      <td>21</td>\n",
       "      <td>41</td>\n",
       "      <td>15</td>\n",
       "      <td>5</td>\n",
       "      <td>2</td>\n",
       "      <td>1.0</td>\n",
       "      <td>NaN</td>\n",
       "      <td>NaN</td>\n",
       "      <td>NaN</td>\n",
       "    </tr>\n",
       "    <tr>\n",
       "      <th>2011-01-02 00:00:00+00:00</th>\n",
       "      <td>2.0</td>\n",
       "      <td>20</td>\n",
       "      <td>6</td>\n",
       "      <td>20</td>\n",
       "      <td>19</td>\n",
       "      <td>14</td>\n",
       "      <td>5</td>\n",
       "      <td>10</td>\n",
       "      <td>1</td>\n",
       "      <td>0.0</td>\n",
       "      <td>NaN</td>\n",
       "      <td>NaN</td>\n",
       "      <td>NaN</td>\n",
       "    </tr>\n",
       "    <tr>\n",
       "      <th>2011-01-03 00:00:00+00:00</th>\n",
       "      <td>1.0</td>\n",
       "      <td>19</td>\n",
       "      <td>13</td>\n",
       "      <td>16</td>\n",
       "      <td>21</td>\n",
       "      <td>15</td>\n",
       "      <td>7</td>\n",
       "      <td>9</td>\n",
       "      <td>1</td>\n",
       "      <td>0.0</td>\n",
       "      <td>NaN</td>\n",
       "      <td>NaN</td>\n",
       "      <td>NaN</td>\n",
       "    </tr>\n",
       "  </tbody>\n",
       "</table>\n",
       "</div>"
      ],
      "text/plain": [
       "                           RAPE  LARCENY  AGG. ASSAULT  LARCENY FROM AUTO  \\\n",
       "CrimeDateTime                                                               \n",
       "2011-01-01 00:00:00+00:00   5.0       39            28                 27   \n",
       "2011-01-02 00:00:00+00:00   2.0       20             6                 20   \n",
       "2011-01-03 00:00:00+00:00   1.0       19            13                 16   \n",
       "\n",
       "                           BURGLARY  COMMON ASSAULT  AUTO THEFT  ROBBERY  \\\n",
       "CrimeDateTime                                                              \n",
       "2011-01-01 00:00:00+00:00        21              41          15        5   \n",
       "2011-01-02 00:00:00+00:00        19              14           5       10   \n",
       "2011-01-03 00:00:00+00:00        21              15           7        9   \n",
       "\n",
       "                           ROBBERY - COMMERCIAL  ARSON  ROBBERY - CARJACKING  \\\n",
       "CrimeDateTime                                                                  \n",
       "2011-01-01 00:00:00+00:00                     2    1.0                   NaN   \n",
       "2011-01-02 00:00:00+00:00                     1    0.0                   NaN   \n",
       "2011-01-03 00:00:00+00:00                     1    0.0                   NaN   \n",
       "\n",
       "                           HOMICIDE  SHOOTING  \n",
       "CrimeDateTime                                  \n",
       "2011-01-01 00:00:00+00:00       NaN       NaN  \n",
       "2011-01-02 00:00:00+00:00       NaN       NaN  \n",
       "2011-01-03 00:00:00+00:00       NaN       NaN  "
      ]
     },
     "execution_count": 9,
     "metadata": {},
     "output_type": "execute_result"
    }
   ],
   "source": [
    "## now that we remove NaT's let's make our datetime index\n",
    "df = df.set_index('CrimeDateTime')\n",
    "df.head(3)"
   ]
  },
  {
   "cell_type": "code",
   "execution_count": 10,
   "id": "d216d8f0-a5fe-4520-bef8-447bac510d2d",
   "metadata": {},
   "outputs": [
    {
     "data": {
      "text/plain": [
       "DatetimeIndex(['2011-01-01 00:00:00+00:00', '2011-01-02 00:00:00+00:00',\n",
       "               '2011-01-03 00:00:00+00:00', '2011-01-04 00:00:00+00:00',\n",
       "               '2011-01-05 00:00:00+00:00', '2011-01-06 00:00:00+00:00',\n",
       "               '2011-01-07 00:00:00+00:00', '2011-01-08 00:00:00+00:00',\n",
       "               '2011-01-09 00:00:00+00:00', '2011-01-10 00:00:00+00:00',\n",
       "               ...\n",
       "               '2024-01-25 00:00:00+00:00', '2024-01-26 00:00:00+00:00',\n",
       "               '2024-01-27 00:00:00+00:00', '2024-01-28 00:00:00+00:00',\n",
       "               '2024-01-29 00:00:00+00:00', '2024-01-30 00:00:00+00:00',\n",
       "               '2024-01-31 00:00:00+00:00', '2024-02-01 00:00:00+00:00',\n",
       "               '2024-02-02 00:00:00+00:00', '2024-02-03 00:00:00+00:00'],\n",
       "              dtype='datetime64[ns, UTC]', name='CrimeDateTime', length=4782, freq=None)"
      ]
     },
     "execution_count": 10,
     "metadata": {},
     "output_type": "execute_result"
    }
   ],
   "source": [
    "df = df.sort_index()\n",
    "df.index\n"
   ]
  },
  {
   "cell_type": "code",
   "execution_count": 11,
   "id": "dc520a28-9ea7-4090-a207-190aeb893ff2",
   "metadata": {},
   "outputs": [
    {
     "data": {
      "image/png": "[encoded data removed]",
      "text/plain": [
       "<Figure size 1200x400 with 1 Axes>"
      ]
     },
     "metadata": {},
     "output_type": "display_data"
    }
   ],
   "source": [
    "years = df.index.year\n",
    "years.value_counts().sort_index().plot(kind='bar');"
   ]
  },
  {
   "cell_type": "code",
   "execution_count": 12,
   "id": "c3b4c530-cf8f-43b6-b3b8-27afed80dbed",
   "metadata": {},
   "outputs": [
    {
     "data": {
      "text/plain": [
       "DatetimeIndex(['2011-01-01 00:00:00+00:00', '2011-01-02 00:00:00+00:00',\n",
       "               '2011-01-03 00:00:00+00:00', '2011-01-04 00:00:00+00:00',\n",
       "               '2011-01-05 00:00:00+00:00', '2011-01-06 00:00:00+00:00',\n",
       "               '2011-01-07 00:00:00+00:00', '2011-01-08 00:00:00+00:00',\n",
       "               '2011-01-09 00:00:00+00:00', '2011-01-10 00:00:00+00:00',\n",
       "               ...\n",
       "               '2024-01-25 00:00:00+00:00', '2024-01-26 00:00:00+00:00',\n",
       "               '2024-01-27 00:00:00+00:00', '2024-01-28 00:00:00+00:00',\n",
       "               '2024-01-29 00:00:00+00:00', '2024-01-30 00:00:00+00:00',\n",
       "               '2024-01-31 00:00:00+00:00', '2024-02-01 00:00:00+00:00',\n",
       "               '2024-02-02 00:00:00+00:00', '2024-02-03 00:00:00+00:00'],\n",
       "              dtype='datetime64[ns, UTC]', name='CrimeDateTime', length=4782, freq=None)"
      ]
     },
     "execution_count": 12,
     "metadata": {},
     "output_type": "execute_result"
    }
   ],
   "source": [
    "## keeping 2011 to present\n",
    "df = df.loc['2011':]\n",
    "df.index\n"
   ]
  },
  {
   "cell_type": "markdown",
   "id": "b66c618c-0fc0-4c3c-a5c0-3b1c007cd360",
   "metadata": {},
   "source": [
    "## Inspecting the Data Format"
   ]
  },
  {
   "cell_type": "code",
   "execution_count": 13,
   "id": "bb3e3034-fa10-46e1-b572-4b976b733e6a",
   "metadata": {},
   "outputs": [
    {
     "ename": "KeyError",
     "evalue": "'Description'",
     "output_type": "error",
     "traceback": [
      "\u001b[0;31m---------------------------------------------------------------------------\u001b[0m",
      "\u001b[0;31mKeyError\u001b[0m                                  Traceback (most recent call last)",
      "File \u001b[0;32m/opt/homebrew/Caskroom/miniforge/base/envs/dojo-env/lib/python3.10/site-packages/pandas/core/indexes/base.py:3802\u001b[0m, in \u001b[0;36mIndex.get_loc\u001b[0;34m(self, key, method, tolerance)\u001b[0m\n\u001b[1;32m   3801\u001b[0m \u001b[38;5;28;01mtry\u001b[39;00m:\n\u001b[0;32m-> 3802\u001b[0m     \u001b[38;5;28;01mreturn\u001b[39;00m \u001b[38;5;28;43mself\u001b[39;49m\u001b[38;5;241;43m.\u001b[39;49m\u001b[43m_engine\u001b[49m\u001b[38;5;241;43m.\u001b[39;49m\u001b[43mget_loc\u001b[49m\u001b[43m(\u001b[49m\u001b[43mcasted_key\u001b[49m\u001b[43m)\u001b[49m\n\u001b[1;32m   3803\u001b[0m \u001b[38;5;28;01mexcept\u001b[39;00m \u001b[38;5;167;01mKeyError\u001b[39;00m \u001b[38;5;28;01mas\u001b[39;00m err:\n",
      "File \u001b[0;32m/opt/homebrew/Caskroom/miniforge/base/envs/dojo-env/lib/python3.10/site-packages/pandas/_libs/index.pyx:138\u001b[0m, in \u001b[0;36mpandas._libs.index.IndexEngine.get_loc\u001b[0;34m()\u001b[0m\n",
      "File \u001b[0;32m/opt/homebrew/Caskroom/miniforge/base/envs/dojo-env/lib/python3.10/site-packages/pandas/_libs/index.pyx:165\u001b[0m, in \u001b[0;36mpandas._libs.index.IndexEngine.get_loc\u001b[0;34m()\u001b[0m\n",
      "File \u001b[0;32mpandas/_libs/hashtable_class_helper.pxi:5745\u001b[0m, in \u001b[0;36mpandas._libs.hashtable.PyObjectHashTable.get_item\u001b[0;34m()\u001b[0m\n",
      "File \u001b[0;32mpandas/_libs/hashtable_class_helper.pxi:5753\u001b[0m, in \u001b[0;36mpandas._libs.hashtable.PyObjectHashTable.get_item\u001b[0;34m()\u001b[0m\n",
      "\u001b[0;31mKeyError\u001b[0m: 'Description'",
      "\nThe above exception was the direct cause of the following exception:\n",
      "\u001b[0;31mKeyError\u001b[0m                                  Traceback (most recent call last)",
      "Cell \u001b[0;32mIn[13], line 2\u001b[0m\n\u001b[1;32m      1\u001b[0m \u001b[38;5;66;03m## Inspect the value_counts for the different types of crimes\u001b[39;00m\n\u001b[0;32m----> 2\u001b[0m crime_counts \u001b[38;5;241m=\u001b[39m \u001b[43mdf\u001b[49m\u001b[43m[\u001b[49m\u001b[38;5;124;43m'\u001b[39;49m\u001b[38;5;124;43mDescription\u001b[39;49m\u001b[38;5;124;43m'\u001b[39;49m\u001b[43m]\u001b[49m\u001b[38;5;241m.\u001b[39mvalue_counts(normalize\u001b[38;5;241m=\u001b[39m\u001b[38;5;28;01mTrue\u001b[39;00m)\n\u001b[1;32m      3\u001b[0m crime_counts\u001b[38;5;241m.\u001b[39msort_values()\u001b[38;5;241m.\u001b[39mplot(kind\u001b[38;5;241m=\u001b[39m\u001b[38;5;124m'\u001b[39m\u001b[38;5;124mbarh\u001b[39m\u001b[38;5;124m'\u001b[39m,figsize\u001b[38;5;241m=\u001b[39m(\u001b[38;5;241m5\u001b[39m,\u001b[38;5;241m8\u001b[39m))\n",
      "File \u001b[0;32m/opt/homebrew/Caskroom/miniforge/base/envs/dojo-env/lib/python3.10/site-packages/pandas/core/frame.py:3807\u001b[0m, in \u001b[0;36mDataFrame.__getitem__\u001b[0;34m(self, key)\u001b[0m\n\u001b[1;32m   3805\u001b[0m \u001b[38;5;28;01mif\u001b[39;00m \u001b[38;5;28mself\u001b[39m\u001b[38;5;241m.\u001b[39mcolumns\u001b[38;5;241m.\u001b[39mnlevels \u001b[38;5;241m>\u001b[39m \u001b[38;5;241m1\u001b[39m:\n\u001b[1;32m   3806\u001b[0m     \u001b[38;5;28;01mreturn\u001b[39;00m \u001b[38;5;28mself\u001b[39m\u001b[38;5;241m.\u001b[39m_getitem_multilevel(key)\n\u001b[0;32m-> 3807\u001b[0m indexer \u001b[38;5;241m=\u001b[39m \u001b[38;5;28;43mself\u001b[39;49m\u001b[38;5;241;43m.\u001b[39;49m\u001b[43mcolumns\u001b[49m\u001b[38;5;241;43m.\u001b[39;49m\u001b[43mget_loc\u001b[49m\u001b[43m(\u001b[49m\u001b[43mkey\u001b[49m\u001b[43m)\u001b[49m\n\u001b[1;32m   3808\u001b[0m \u001b[38;5;28;01mif\u001b[39;00m is_integer(indexer):\n\u001b[1;32m   3809\u001b[0m     indexer \u001b[38;5;241m=\u001b[39m [indexer]\n",
      "File \u001b[0;32m/opt/homebrew/Caskroom/miniforge/base/envs/dojo-env/lib/python3.10/site-packages/pandas/core/indexes/base.py:3804\u001b[0m, in \u001b[0;36mIndex.get_loc\u001b[0;34m(self, key, method, tolerance)\u001b[0m\n\u001b[1;32m   3802\u001b[0m     \u001b[38;5;28;01mreturn\u001b[39;00m \u001b[38;5;28mself\u001b[39m\u001b[38;5;241m.\u001b[39m_engine\u001b[38;5;241m.\u001b[39mget_loc(casted_key)\n\u001b[1;32m   3803\u001b[0m \u001b[38;5;28;01mexcept\u001b[39;00m \u001b[38;5;167;01mKeyError\u001b[39;00m \u001b[38;5;28;01mas\u001b[39;00m err:\n\u001b[0;32m-> 3804\u001b[0m     \u001b[38;5;28;01mraise\u001b[39;00m \u001b[38;5;167;01mKeyError\u001b[39;00m(key) \u001b[38;5;28;01mfrom\u001b[39;00m \u001b[38;5;21;01merr\u001b[39;00m\n\u001b[1;32m   3805\u001b[0m \u001b[38;5;28;01mexcept\u001b[39;00m \u001b[38;5;167;01mTypeError\u001b[39;00m:\n\u001b[1;32m   3806\u001b[0m     \u001b[38;5;66;03m# If we have a listlike key, _check_indexing_error will raise\u001b[39;00m\n\u001b[1;32m   3807\u001b[0m     \u001b[38;5;66;03m#  InvalidIndexError. Otherwise we fall through and re-raise\u001b[39;00m\n\u001b[1;32m   3808\u001b[0m     \u001b[38;5;66;03m#  the TypeError.\u001b[39;00m\n\u001b[1;32m   3809\u001b[0m     \u001b[38;5;28mself\u001b[39m\u001b[38;5;241m.\u001b[39m_check_indexing_error(key)\n",
      "\u001b[0;31mKeyError\u001b[0m: 'Description'"
     ]
    }
   ],
   "source": [
    "## Inspect the value_counts for the different types of crimes\n",
    "crime_counts = df['Description'].value_counts(normalize=True)\n",
    "crime_counts.sort_values().plot(kind='barh',figsize=(5,8))"
   ]
  },
  {
   "cell_type": "code",
   "execution_count": null,
   "id": "25ac7602-22ec-457b-ac05-868e253b40c5",
   "metadata": {},
   "outputs": [],
   "source": [
    "## Inspect the value_counts for the different types of crimes\n",
    "crime_counts = df['Description'].value_counts().to_frame('Total # of Crimes')\n",
    "crime_counts"
   ]
  },
  {
   "cell_type": "code",
   "execution_count": null,
   "id": "919996b7-c28f-437a-9a0e-b9da9e8c6fb1",
   "metadata": {},
   "outputs": [],
   "source": [
    "# display with an inline-barplot inside your df\n",
    "crime_counts.style.bar('Total # of Crimes')"
   ]
  },
  {
   "cell_type": "markdown",
   "id": "f22311a4-a64b-4ab1-99de-9caa01fe7505",
   "metadata": {},
   "source": [
    "## Using Dictionaries and Loops to Prepare Time Series"
   ]
  },
  {
   "cell_type": "code",
   "execution_count": 14,
   "id": "9aefdb79-785d-4d9c-b6f1-d47919ee2050",
   "metadata": {},
   "outputs": [
    {
     "ename": "KeyError",
     "evalue": "'Description'",
     "output_type": "error",
     "traceback": [
      "\u001b[0;31m---------------------------------------------------------------------------\u001b[0m",
      "\u001b[0;31mKeyError\u001b[0m                                  Traceback (most recent call last)",
      "Cell \u001b[0;32mIn[14], line 2\u001b[0m\n\u001b[1;32m      1\u001b[0m \u001b[38;5;66;03m## demoing groupby with .counts() vs .size()\u001b[39;00m\n\u001b[0;32m----> 2\u001b[0m \u001b[43mdf\u001b[49m\u001b[38;5;241;43m.\u001b[39;49m\u001b[43mgroupby\u001b[49m\u001b[43m(\u001b[49m\u001b[38;5;124;43m\"\u001b[39;49m\u001b[38;5;124;43mDescription\u001b[39;49m\u001b[38;5;124;43m\"\u001b[39;49m\u001b[43m)\u001b[49m\u001b[38;5;241m.\u001b[39mcount()\u001b[38;5;241m.\u001b[39mhead()\n",
      "File \u001b[0;32m/opt/homebrew/Caskroom/miniforge/base/envs/dojo-env/lib/python3.10/site-packages/pandas/core/frame.py:8402\u001b[0m, in \u001b[0;36mDataFrame.groupby\u001b[0;34m(self, by, axis, level, as_index, sort, group_keys, squeeze, observed, dropna)\u001b[0m\n\u001b[1;32m   8399\u001b[0m     \u001b[38;5;28;01mraise\u001b[39;00m \u001b[38;5;167;01mTypeError\u001b[39;00m(\u001b[38;5;124m\"\u001b[39m\u001b[38;5;124mYou have to supply one of \u001b[39m\u001b[38;5;124m'\u001b[39m\u001b[38;5;124mby\u001b[39m\u001b[38;5;124m'\u001b[39m\u001b[38;5;124m and \u001b[39m\u001b[38;5;124m'\u001b[39m\u001b[38;5;124mlevel\u001b[39m\u001b[38;5;124m'\u001b[39m\u001b[38;5;124m\"\u001b[39m)\n\u001b[1;32m   8400\u001b[0m axis \u001b[38;5;241m=\u001b[39m \u001b[38;5;28mself\u001b[39m\u001b[38;5;241m.\u001b[39m_get_axis_number(axis)\n\u001b[0;32m-> 8402\u001b[0m \u001b[38;5;28;01mreturn\u001b[39;00m \u001b[43mDataFrameGroupBy\u001b[49m\u001b[43m(\u001b[49m\n\u001b[1;32m   8403\u001b[0m \u001b[43m    \u001b[49m\u001b[43mobj\u001b[49m\u001b[38;5;241;43m=\u001b[39;49m\u001b[38;5;28;43mself\u001b[39;49m\u001b[43m,\u001b[49m\n\u001b[1;32m   8404\u001b[0m \u001b[43m    \u001b[49m\u001b[43mkeys\u001b[49m\u001b[38;5;241;43m=\u001b[39;49m\u001b[43mby\u001b[49m\u001b[43m,\u001b[49m\n\u001b[1;32m   8405\u001b[0m \u001b[43m    \u001b[49m\u001b[43maxis\u001b[49m\u001b[38;5;241;43m=\u001b[39;49m\u001b[43maxis\u001b[49m\u001b[43m,\u001b[49m\n\u001b[1;32m   8406\u001b[0m \u001b[43m    \u001b[49m\u001b[43mlevel\u001b[49m\u001b[38;5;241;43m=\u001b[39;49m\u001b[43mlevel\u001b[49m\u001b[43m,\u001b[49m\n\u001b[1;32m   8407\u001b[0m \u001b[43m    \u001b[49m\u001b[43mas_index\u001b[49m\u001b[38;5;241;43m=\u001b[39;49m\u001b[43mas_index\u001b[49m\u001b[43m,\u001b[49m\n\u001b[1;32m   8408\u001b[0m \u001b[43m    \u001b[49m\u001b[43msort\u001b[49m\u001b[38;5;241;43m=\u001b[39;49m\u001b[43msort\u001b[49m\u001b[43m,\u001b[49m\n\u001b[1;32m   8409\u001b[0m \u001b[43m    \u001b[49m\u001b[43mgroup_keys\u001b[49m\u001b[38;5;241;43m=\u001b[39;49m\u001b[43mgroup_keys\u001b[49m\u001b[43m,\u001b[49m\n\u001b[1;32m   8410\u001b[0m \u001b[43m    \u001b[49m\u001b[43msqueeze\u001b[49m\u001b[38;5;241;43m=\u001b[39;49m\u001b[43msqueeze\u001b[49m\u001b[43m,\u001b[49m\n\u001b[1;32m   8411\u001b[0m \u001b[43m    \u001b[49m\u001b[43mobserved\u001b[49m\u001b[38;5;241;43m=\u001b[39;49m\u001b[43mobserved\u001b[49m\u001b[43m,\u001b[49m\n\u001b[1;32m   8412\u001b[0m \u001b[43m    \u001b[49m\u001b[43mdropna\u001b[49m\u001b[38;5;241;43m=\u001b[39;49m\u001b[43mdropna\u001b[49m\u001b[43m,\u001b[49m\n\u001b[1;32m   8413\u001b[0m \u001b[43m\u001b[49m\u001b[43m)\u001b[49m\n",
      "File \u001b[0;32m/opt/homebrew/Caskroom/miniforge/base/envs/dojo-env/lib/python3.10/site-packages/pandas/core/groupby/groupby.py:965\u001b[0m, in \u001b[0;36mGroupBy.__init__\u001b[0;34m(self, obj, keys, axis, level, grouper, exclusions, selection, as_index, sort, group_keys, squeeze, observed, mutated, dropna)\u001b[0m\n\u001b[1;32m    962\u001b[0m \u001b[38;5;28;01mif\u001b[39;00m grouper \u001b[38;5;129;01mis\u001b[39;00m \u001b[38;5;28;01mNone\u001b[39;00m:\n\u001b[1;32m    963\u001b[0m     \u001b[38;5;28;01mfrom\u001b[39;00m \u001b[38;5;21;01mpandas\u001b[39;00m\u001b[38;5;21;01m.\u001b[39;00m\u001b[38;5;21;01mcore\u001b[39;00m\u001b[38;5;21;01m.\u001b[39;00m\u001b[38;5;21;01mgroupby\u001b[39;00m\u001b[38;5;21;01m.\u001b[39;00m\u001b[38;5;21;01mgrouper\u001b[39;00m \u001b[38;5;28;01mimport\u001b[39;00m get_grouper\n\u001b[0;32m--> 965\u001b[0m     grouper, exclusions, obj \u001b[38;5;241m=\u001b[39m \u001b[43mget_grouper\u001b[49m\u001b[43m(\u001b[49m\n\u001b[1;32m    966\u001b[0m \u001b[43m        \u001b[49m\u001b[43mobj\u001b[49m\u001b[43m,\u001b[49m\n\u001b[1;32m    967\u001b[0m \u001b[43m        \u001b[49m\u001b[43mkeys\u001b[49m\u001b[43m,\u001b[49m\n\u001b[1;32m    968\u001b[0m \u001b[43m        \u001b[49m\u001b[43maxis\u001b[49m\u001b[38;5;241;43m=\u001b[39;49m\u001b[43maxis\u001b[49m\u001b[43m,\u001b[49m\n\u001b[1;32m    969\u001b[0m \u001b[43m        \u001b[49m\u001b[43mlevel\u001b[49m\u001b[38;5;241;43m=\u001b[39;49m\u001b[43mlevel\u001b[49m\u001b[43m,\u001b[49m\n\u001b[1;32m    970\u001b[0m \u001b[43m        \u001b[49m\u001b[43msort\u001b[49m\u001b[38;5;241;43m=\u001b[39;49m\u001b[43msort\u001b[49m\u001b[43m,\u001b[49m\n\u001b[1;32m    971\u001b[0m \u001b[43m        \u001b[49m\u001b[43mobserved\u001b[49m\u001b[38;5;241;43m=\u001b[39;49m\u001b[43mobserved\u001b[49m\u001b[43m,\u001b[49m\n\u001b[1;32m    972\u001b[0m \u001b[43m        \u001b[49m\u001b[43mmutated\u001b[49m\u001b[38;5;241;43m=\u001b[39;49m\u001b[38;5;28;43mself\u001b[39;49m\u001b[38;5;241;43m.\u001b[39;49m\u001b[43mmutated\u001b[49m\u001b[43m,\u001b[49m\n\u001b[1;32m    973\u001b[0m \u001b[43m        \u001b[49m\u001b[43mdropna\u001b[49m\u001b[38;5;241;43m=\u001b[39;49m\u001b[38;5;28;43mself\u001b[39;49m\u001b[38;5;241;43m.\u001b[39;49m\u001b[43mdropna\u001b[49m\u001b[43m,\u001b[49m\n\u001b[1;32m    974\u001b[0m \u001b[43m    \u001b[49m\u001b[43m)\u001b[49m\n\u001b[1;32m    976\u001b[0m \u001b[38;5;28mself\u001b[39m\u001b[38;5;241m.\u001b[39mobj \u001b[38;5;241m=\u001b[39m obj\n\u001b[1;32m    977\u001b[0m \u001b[38;5;28mself\u001b[39m\u001b[38;5;241m.\u001b[39maxis \u001b[38;5;241m=\u001b[39m obj\u001b[38;5;241m.\u001b[39m_get_axis_number(axis)\n",
      "File \u001b[0;32m/opt/homebrew/Caskroom/miniforge/base/envs/dojo-env/lib/python3.10/site-packages/pandas/core/groupby/grouper.py:888\u001b[0m, in \u001b[0;36mget_grouper\u001b[0;34m(obj, key, axis, level, sort, observed, mutated, validate, dropna)\u001b[0m\n\u001b[1;32m    886\u001b[0m         in_axis, level, gpr \u001b[38;5;241m=\u001b[39m \u001b[38;5;28;01mFalse\u001b[39;00m, gpr, \u001b[38;5;28;01mNone\u001b[39;00m\n\u001b[1;32m    887\u001b[0m     \u001b[38;5;28;01melse\u001b[39;00m:\n\u001b[0;32m--> 888\u001b[0m         \u001b[38;5;28;01mraise\u001b[39;00m \u001b[38;5;167;01mKeyError\u001b[39;00m(gpr)\n\u001b[1;32m    889\u001b[0m \u001b[38;5;28;01melif\u001b[39;00m \u001b[38;5;28misinstance\u001b[39m(gpr, Grouper) \u001b[38;5;129;01mand\u001b[39;00m gpr\u001b[38;5;241m.\u001b[39mkey \u001b[38;5;129;01mis\u001b[39;00m \u001b[38;5;129;01mnot\u001b[39;00m \u001b[38;5;28;01mNone\u001b[39;00m:\n\u001b[1;32m    890\u001b[0m     \u001b[38;5;66;03m# Add key to exclusions\u001b[39;00m\n\u001b[1;32m    891\u001b[0m     exclusions\u001b[38;5;241m.\u001b[39madd(gpr\u001b[38;5;241m.\u001b[39mkey)\n",
      "\u001b[0;31mKeyError\u001b[0m: 'Description'"
     ]
    }
   ],
   "source": [
    "## demoing groupby with .counts() vs .size()\n",
    "df.groupby(\"Description\").count().head()\n"
   ]
  },
  {
   "cell_type": "code",
   "execution_count": null,
   "id": "59a8e132-87d7-42bf-8f9d-06a338ee5a8d",
   "metadata": {},
   "outputs": [],
   "source": [
    "df.groupby(\"Description\").size().head()\n"
   ]
  },
  {
   "cell_type": "markdown",
   "id": "c63f834d-5fa1-4058-a2a3-890e78b87006",
   "metadata": {},
   "source": [
    " Notice that our .size() results match the \"Total Incidents\". It produced the same final answer, but with a much cleaner output."
   ]
  },
  {
   "cell_type": "markdown",
   "id": "08af9de2-fc18-4f51-8748-fa95e87bc9ea",
   "metadata": {},
   "source": [
    "## Testing 1 crime first"
   ]
  },
  {
   "cell_type": "code",
   "execution_count": null,
   "id": "91cd1a3c-36a7-4aee-be44-b4e9adf3f28f",
   "metadata": {},
   "outputs": [],
   "source": [
    "## making our dictionary \n",
    "CRIMES = {}\n"
   ]
  },
  {
   "cell_type": "code",
   "execution_count": null,
   "id": "9351cb84-43e7-4bb7-88eb-c19b1beeba6a",
   "metadata": {},
   "outputs": [],
   "source": [
    "## Lets test 1 crime before we create our loop\n",
    "crime ='ROBBERY'\n",
    "crime\n"
   ]
  },
  {
   "cell_type": "code",
   "execution_count": null,
   "id": "4070e1a3-0ea8-44f0-bc71-8ca9d3b2c09b",
   "metadata": {},
   "outputs": [],
   "source": [
    "# I. Save a temp df of just the rows that match the crime\n",
    "temp = df.loc[ df['Description']==crime]\n",
    "temp.head(3)"
   ]
  },
  {
   "cell_type": "code",
   "execution_count": null,
   "id": "9209fd03-d195-44a2-bc6e-ef2d60dd705a",
   "metadata": {},
   "outputs": [],
   "source": [
    "# II. Resample the temp DataFrame as Daily data (crime counts)\n",
    "# and keep ONLY the .size()\n",
    "temp_res = temp.resample(\"D\").size()\n",
    "temp_res\n"
   ]
  },
  {
   "cell_type": "code",
   "execution_count": null,
   "id": "a0dfc177-cc28-47ea-81b2-f961983276ed",
   "metadata": {},
   "outputs": [],
   "source": [
    "#III. Save the temporary DataFrame in the dictionary, #using the crime description as the key.\n",
    "CRIMES[crime] = temp_res.copy()\n",
    "CRIMES.keys()\n"
   ]
  },
  {
   "cell_type": "code",
   "execution_count": null,
   "id": "ad8dea59-5d47-4d60-b634-4cca7c0ad806",
   "metadata": {},
   "outputs": [],
   "source": [
    "CRIMES['ROBBERY']\n"
   ]
  },
  {
   "cell_type": "markdown",
   "id": "9d35d3ae-601e-4331-a2fb-34af35638082",
   "metadata": {},
   "source": [
    "## Making Our Loop"
   ]
  },
  {
   "cell_type": "code",
   "execution_count": null,
   "id": "f42fc6c7-a5f8-4f91-808a-03780299c879",
   "metadata": {},
   "outputs": [],
   "source": [
    "# 1. get list of  unique crime descriptions\n",
    "crime_list = df['Description'].unique()\n",
    "crime_list\n"
   ]
  },
  {
   "cell_type": "code",
   "execution_count": null,
   "id": "71d1a6df-f5a5-4d2e-ad21-99e33a452760",
   "metadata": {},
   "outputs": [],
   "source": [
    "# 2. Create an empty dictionary  \n",
    "CRIMES = {}\n",
    "# 3. Loop through the list of crimes\n",
    "for crime in crime_list:\n",
    "    # I. Save a temp df of just the rows that match the crime\n",
    "   temp = df.loc[ df['Description']==crime].copy()\n",
    "    # II. Resample the temp DataFrame as Daily data (crime counts) \n",
    "    # and keep ONLY the .size() \n",
    "   temp_res = temp.resample(\"D\").size() \n",
    "   #III. Save the temporary DataFrame in the dictionary,\n",
    "   #using the crime description as the key.\n",
    "   CRIMES[crime] = temp_res.copy() \n",
    "CRIMES.keys()\n"
   ]
  },
  {
   "cell_type": "code",
   "execution_count": null,
   "id": "fa767b0b-138d-46af-b48b-66ae6dfcdd42",
   "metadata": {},
   "outputs": [],
   "source": [
    "CRIMES['SHOOTING']\n"
   ]
  },
  {
   "cell_type": "code",
   "execution_count": null,
   "id": "ff7537dc-05a0-4414-b991-841853eff9ae",
   "metadata": {},
   "outputs": [],
   "source": [
    "crimes_df = pd.DataFrame(CRIMES)\n",
    "crimes_df\n"
   ]
  },
  {
   "cell_type": "code",
   "execution_count": null,
   "id": "b09e216c-203b-4f77-a67a-bd614760044f",
   "metadata": {},
   "outputs": [],
   "source": [
    "## saving to disk for later\n",
    "crimes_df.to_csv(\"Data/Baltimore\")"
   ]
  },
  {
   "cell_type": "markdown",
   "id": "acbd41c1-8761-4065-bbb0-6ebd13077aff",
   "metadata": {},
   "source": [
    "# Time Zones"
   ]
  },
  {
   "cell_type": "code",
   "execution_count": null,
   "id": "49e52f0a-5655-4ce5-b118-ee88cc103055",
   "metadata": {},
   "outputs": [],
   "source": [
    "## testing our saved data\n",
    "df = pd.read_csv(\"Data/Part_1_Crime_Data.csv\", parse_dates=['CrimeDateTime'], index_col=0)"
   ]
  },
  {
   "cell_type": "code",
   "execution_count": null,
   "id": "d91f3876-6edc-456b-807e-42e3a918a552",
   "metadata": {},
   "outputs": [],
   "source": [
    "## check our df.index\n",
    "df.index\n"
   ]
  },
  {
   "cell_type": "code",
   "execution_count": null,
   "id": "13d6cfe2-6911-4097-a61d-aba2469386f8",
   "metadata": {},
   "outputs": [],
   "source": [
    "df = df.resample('D').asfreq()\n",
    "df.head(3)"
   ]
  },
  {
   "cell_type": "code",
   "execution_count": null,
   "id": "d7a768be-e0b1-4a2d-8886-f08fca972324",
   "metadata": {},
   "outputs": [],
   "source": [
    "ts0 = df.index[0]\n",
    "ts0\n"
   ]
  },
  {
   "cell_type": "code",
   "execution_count": null,
   "id": "84d546d6-48ed-4062-a8b5-0689718ab803",
   "metadata": {},
   "outputs": [],
   "source": [
    "# checking the documentation for astimezone\n",
    "ts0.astimezone?\n"
   ]
  },
  {
   "cell_type": "code",
   "execution_count": null,
   "id": "44415963-4c45-4653-8be0-bb2b8f1c416c",
   "metadata": {},
   "outputs": [],
   "source": [
    "import pytz\n",
    "all_tzs = pytz.all_timezones\n",
    "len(all_tzs)\n"
   ]
  },
  {
   "cell_type": "code",
   "execution_count": null,
   "id": "c92e7829-ebed-4a4e-9d35-31b46fd7ad72",
   "metadata": {},
   "outputs": [],
   "source": [
    "## getting just US timezones\n",
    "[tz for tz in all_tzs if tz.startswith('US')]\n"
   ]
  },
  {
   "cell_type": "code",
   "execution_count": null,
   "id": "0c771eac-5874-478b-b78c-629a153d4b19",
   "metadata": {},
   "outputs": [],
   "source": [
    "## let's try converting to US Eastern\n",
    "ts0.astimezone('US/Eastern')"
   ]
  },
  {
   "cell_type": "code",
   "execution_count": null,
   "id": "774986c1-2ee3-4ec0-9208-37be27672a0e",
   "metadata": {},
   "outputs": [],
   "source": [
    "## Viewing original \n",
    "ts0\n"
   ]
  },
  {
   "cell_type": "code",
   "execution_count": null,
   "id": "70839f72-b4bb-4894-ba05-4fcbd65843c6",
   "metadata": {},
   "outputs": [],
   "source": [
    "## let's try converting to US Pacific\n",
    "ts0.astimezone('US/Pacific')\n"
   ]
  },
  {
   "cell_type": "code",
   "execution_count": null,
   "id": "99a15b64-7689-4142-a43e-0a2c7cd929e2",
   "metadata": {},
   "outputs": [],
   "source": [
    "## remove time zone from the dt index\n",
    "df = df.tz_convert(None)\n",
    "df.head(3)\n"
   ]
  },
  {
   "cell_type": "code",
   "execution_count": null,
   "id": "94499d61-08c8-423f-8884-51e69963ca3d",
   "metadata": {},
   "outputs": [],
   "source": []
  }
 ],
 "metadata": {
  "kernelspec": {
   "display_name": "Python 3 (ipykernel)",
   "language": "python",
   "name": "python3"
  },
  "language_info": {
   "codemirror_mode": {
    "name": "ipython",
    "version": 3
   },
   "file_extension": ".py",
   "mimetype": "text/x-python",
   "name": "python",
   "nbconvert_exporter": "python",
   "pygments_lexer": "ipython3",
   "version": "3.10.10"
  },
  "widgets": {
   "application/vnd.jupyter.widget-state+json": {
    "state": {},
    "version_major": 2,
    "version_minor": 0
   }
  }
 },
 "nbformat": 4,
 "nbformat_minor": 5
}
